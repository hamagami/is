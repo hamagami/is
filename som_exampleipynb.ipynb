{
  "nbformat": 4,
  "nbformat_minor": 0,
  "metadata": {
    "colab": {
      "name": "som_exampleipynb",
      "provenance": []
    },
    "kernelspec": {
      "name": "python3",
      "display_name": "Python 3"
    }
  },
  "cells": [
    {
      "cell_type": "markdown",
      "metadata": {
        "id": "hhFirn_uydaC"
      },
      "source": [
        "SOM example mmodified from https://qiita.com/T_Shinaji/items/609fe9aabd99c287b389"
      ]
    },
    {
      "cell_type": "code",
      "metadata": {
        "id": "fujhN95hyHjv"
      },
      "source": [
        "import numpy as np\r\n",
        "from matplotlib import pyplot as plt"
      ],
      "execution_count": 1,
      "outputs": []
    },
    {
      "cell_type": "code",
      "metadata": {
        "id": "RRFeB_XEyK3W"
      },
      "source": [
        "class SOM():\r\n",
        "\r\n",
        "    def __init__(self, teachers, N, seed=None):\r\n",
        "        self.teachers = np.array(teachers)\r\n",
        "        self.n_teacher = self.teachers.shape[0]\r\n",
        "        self.N = N\r\n",
        "        if not seed is None:\r\n",
        "            np.random.seed(seed)\r\n",
        "\r\n",
        "        x, y = np.meshgrid(range(self.N), range(self.N))\r\n",
        "        self.c = np.hstack((y.flatten()[:, np.newaxis],\r\n",
        "                            x.flatten()[:, np.newaxis]))\r\n",
        "        self.nodes = np.random.rand(self.N*self.N,\r\n",
        "                                    self.teachers.shape[1])\r\n",
        "\r\n",
        "    def train(self):\r\n",
        "        for i, teacher in enumerate(self.teachers):\r\n",
        "            bmu = self._best_matching_unit(teacher)\r\n",
        "            d = np.linalg.norm(self.c - bmu, axis=1)\r\n",
        "            L = self._learning_ratio(i)\r\n",
        "            S = self._learning_radius(i, d)\r\n",
        "            self.nodes += L * S[:, np.newaxis] * (teacher - self.nodes)\r\n",
        "        return self.nodes\r\n",
        "\r\n",
        "    def _best_matching_unit(self, teacher):\r\n",
        "        #compute all norms (square)\r\n",
        "        norms = np.linalg.norm(self.nodes - teacher, axis=1)\r\n",
        "        bmu = np.argmin(norms) #argment with minimum element \r\n",
        "        return np.unravel_index(bmu,(self.N, self.N))\r\n",
        "\r\n",
        "    def _neighbourhood(self, t):#neighbourhood radious\r\n",
        "        halflife = float(self.n_teacher/4) #for testing\r\n",
        "        initial  = float(self.N/2)\r\n",
        "        return initial*np.exp(-t/halflife)\r\n",
        "\r\n",
        "    def _learning_ratio(self, t):\r\n",
        "        halflife = float(self.n_teacher/4) #for testing\r\n",
        "        initial  = 0.1\r\n",
        "        return initial*np.exp(-t/halflife)\r\n",
        "\r\n",
        "    def _learning_radius(self, t, d):\r\n",
        "        # d is distance from BMU\r\n",
        "        s = self._neighbourhood(t)\r\n",
        "        return np.exp(-d**2/(2*s**2))\r\n"
      ],
      "execution_count": 2,
      "outputs": []
    },
    {
      "cell_type": "code",
      "metadata": {
        "id": "E6vlLUb6yRmx"
      },
      "source": [
        "N = 20        \r\n",
        "teachers = np.random.rand(10000, 3)\r\n",
        "som = SOM(teachers, N=N, seed=10)"
      ],
      "execution_count": 3,
      "outputs": []
    },
    {
      "cell_type": "code",
      "metadata": {
        "colab": {
          "base_uri": "https://localhost:8080/",
          "height": 513
        },
        "id": "OFDj3DO8yWcC",
        "outputId": "5b3da3e6-8fc0-47d1-aaa8-2af8dd7ea1ce"
      },
      "source": [
        "# Initial map\r\n",
        "plt.imshow(som.nodes.reshape((N, N, 3)),\r\n",
        "           interpolation='none')\r\n",
        "plt.show()\r\n",
        "\r\n",
        "# Train\r\n",
        "som.train()\r\n",
        "\r\n",
        "# Trained MAP\r\n",
        "plt.imshow(som.nodes.reshape((N, N, 3)),\r\n",
        "           interpolation='none')\r\n",
        "plt.show()      "
      ],
      "execution_count": 4,
      "outputs": [
        {
          "output_type": "display_data",
          "data": {
            "image/png": "[encoded data removed]",
            "text/plain": [
              "<Figure size 432x288 with 1 Axes>"
            ]
          },
          "metadata": {
            "tags": [],
            "needs_background": "light"
          }
        },
        {
          "output_type": "display_data",
          "data": {
            "image/png": "[encoded data removed]",
            "text/plain": [
              "<Figure size 432x288 with 1 Axes>"
            ]
          },
          "metadata": {
            "tags": [],
            "needs_background": "light"
          }
        }
      ]
    },
    {
      "cell_type": "code",
      "metadata": {
        "id": "gKKu2DPxyZtz"
      },
      "source": [
        ""
      ],
      "execution_count": null,
      "outputs": []
    }
  ]
}